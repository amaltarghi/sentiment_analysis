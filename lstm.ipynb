{
 "cells": [
  {
   "cell_type": "code",
   "execution_count": 1,
   "metadata": {
    "collapsed": false
   },
   "outputs": [],
   "source": [
    "import pandas as pd\n",
    "import unicodedata \n",
    "import string\n",
    "from nltk.stem.porter import *\n",
    "import unicodedata \n",
    "from nltk.stem.snowball import SnowballStemmer\n",
    "from nltk.corpus import stopwords\n",
    "import numpy as np\n",
    "from nltk.stem.porter import PorterStemmer\n",
    "import nltk\n",
    "from nltk.stem.wordnet import WordNetLemmatizer\n"
   ]
  },
  {
   "cell_type": "code",
   "execution_count": 2,
   "metadata": {
    "collapsed": false
   },
   "outputs": [
    {
     "data": {
      "text/plain": [
       "array([1, 2, 3, 4, 0])"
      ]
     },
     "execution_count": 2,
     "metadata": {},
     "output_type": "execute_result"
    },
    {
     "name": "stdout",
     "output_type": "stream",
     "text": [
      "The history saving thread hit an unexpected error (OperationalError('database is locked',)).History will not be written to the database.\n"
     ]
    }
   ],
   "source": [
    "movies_data = pd.read_table(\"train.tsv\")\n",
    "movies_data.shape\n",
    "movies_data[\"Sentiment\"].unique()\n",
    "                    "
   ]
  },
  {
   "cell_type": "code",
   "execution_count": 65,
   "metadata": {
    "collapsed": false
   },
   "outputs": [
    {
     "data": {
      "text/plain": [
       "(66292, 3)"
      ]
     },
     "execution_count": 65,
     "metadata": {},
     "output_type": "execute_result"
    }
   ],
   "source": [
    "movie_test = pd.read_table(\"test.tsv\")\n",
    "movie_test.shape\n",
    "\n"
   ]
  },
  {
   "cell_type": "code",
   "execution_count": 30,
   "metadata": {
    "collapsed": false
   },
   "outputs": [
    {
     "data": {
      "text/html": [
       "<div>\n",
       "<table border=\"1\" class=\"dataframe\">\n",
       "  <thead>\n",
       "    <tr style=\"text-align: right;\">\n",
       "      <th></th>\n",
       "      <th>PhraseId</th>\n",
       "      <th>SentenceId</th>\n",
       "      <th>Phrase</th>\n",
       "      <th>Sentiment</th>\n",
       "    </tr>\n",
       "  </thead>\n",
       "  <tbody>\n",
       "    <tr>\n",
       "      <th>0</th>\n",
       "      <td>1</td>\n",
       "      <td>1</td>\n",
       "      <td>A series of escapades demonstrating the adage ...</td>\n",
       "      <td>1</td>\n",
       "    </tr>\n",
       "    <tr>\n",
       "      <th>1</th>\n",
       "      <td>2</td>\n",
       "      <td>1</td>\n",
       "      <td>A series of escapades demonstrating the adage ...</td>\n",
       "      <td>2</td>\n",
       "    </tr>\n",
       "    <tr>\n",
       "      <th>2</th>\n",
       "      <td>3</td>\n",
       "      <td>1</td>\n",
       "      <td>A series</td>\n",
       "      <td>2</td>\n",
       "    </tr>\n",
       "    <tr>\n",
       "      <th>3</th>\n",
       "      <td>4</td>\n",
       "      <td>1</td>\n",
       "      <td>A</td>\n",
       "      <td>2</td>\n",
       "    </tr>\n",
       "    <tr>\n",
       "      <th>4</th>\n",
       "      <td>5</td>\n",
       "      <td>1</td>\n",
       "      <td>series</td>\n",
       "      <td>2</td>\n",
       "    </tr>\n",
       "  </tbody>\n",
       "</table>\n",
       "</div>"
      ],
      "text/plain": [
       "   PhraseId  SentenceId                                             Phrase  \\\n",
       "0         1           1  A series of escapades demonstrating the adage ...   \n",
       "1         2           1  A series of escapades demonstrating the adage ...   \n",
       "2         3           1                                           A series   \n",
       "3         4           1                                                  A   \n",
       "4         5           1                                             series   \n",
       "\n",
       "   Sentiment  \n",
       "0          1  \n",
       "1          2  \n",
       "2          2  \n",
       "3          2  \n",
       "4          2  "
      ]
     },
     "execution_count": 30,
     "metadata": {},
     "output_type": "execute_result"
    }
   ],
   "source": [
    "movies_data.head()"
   ]
  },
  {
   "cell_type": "code",
   "execution_count": 66,
   "metadata": {
    "collapsed": false
   },
   "outputs": [],
   "source": [
    "movies_data['Phrase'] = (movies_data['Phrase'].str.lower()\n",
    "              .str.decode('utf-8')\n",
    "              .map(lambda x: unicodedata.normalize('NFKD', x))\n",
    "              .str.encode('ascii', 'ignore'))\n",
    "\n",
    "movie_test['Phrase'] = (movie_test['Phrase'].str.lower()\n",
    "              .str.decode('utf-8')\n",
    "              .map(lambda x: unicodedata.normalize('NFKD', x))\n",
    "              .str.encode('ascii', 'ignore'))"
   ]
  },
  {
   "cell_type": "code",
   "execution_count": 116,
   "metadata": {
    "collapsed": true
   },
   "outputs": [],
   "source": []
  },
  {
   "cell_type": "code",
   "execution_count": 49,
   "metadata": {
    "collapsed": false
   },
   "outputs": [],
   "source": []
  },
  {
   "cell_type": "code",
   "execution_count": 85,
   "metadata": {
    "collapsed": false
   },
   "outputs": [],
   "source": []
  },
  {
   "cell_type": "code",
   "execution_count": 67,
   "metadata": {
    "collapsed": true
   },
   "outputs": [],
   "source": [
    "cols = [\"Phrase\", \"Sentiment\"]\n",
    "movies_data_new =movies_data[cols]"
   ]
  },
  {
   "cell_type": "code",
   "execution_count": 68,
   "metadata": {
    "collapsed": true
   },
   "outputs": [],
   "source": [
    "movies_data_new.to_csv(\"train.csv\", index= False)\n",
    "movie_test.to_csv(\"test.csv\", index= False)"
   ]
  },
  {
   "cell_type": "code",
   "execution_count": 69,
   "metadata": {
    "collapsed": false
   },
   "outputs": [
    {
     "name": "stdout",
     "output_type": "stream",
     "text": [
      "66293\n"
     ]
    }
   ],
   "source": [
    "import csv\n",
    "with open(\"test.csv\", 'r') as file: \n",
    "    test = list(csv.reader(file))\n",
    "\n",
    "print(len(test))"
   ]
  },
  {
   "cell_type": "code",
   "execution_count": 70,
   "metadata": {
    "collapsed": false
   },
   "outputs": [],
   "source": [
    "import csv\n",
    "with open(\"train.csv\", 'r') as file: \n",
    "    reviews = list(csv.reader(file))\n",
    "\n"
   ]
  },
  {
   "cell_type": "code",
   "execution_count": null,
   "metadata": {
    "collapsed": true
   },
   "outputs": [],
   "source": []
  },
  {
   "cell_type": "code",
   "execution_count": 293,
   "metadata": {
    "collapsed": false
   },
   "outputs": [],
   "source": [
    "#reviews"
   ]
  },
  {
   "cell_type": "code",
   "execution_count": 78,
   "metadata": {
    "collapsed": false
   },
   "outputs": [],
   "source": [
    "def get_text(reviews, score):\n",
    "    # Join together the text in the reviews for a particular tone.\n",
    "    #We lowercase to avoid \"Not\" and \"not\" being seen as different words, for example.\n",
    "\n",
    "    return \"\\n\".join([r[0].lower() for r in reviews if r[1] == str(score)])"
   ]
  },
  {
   "cell_type": "code",
   "execution_count": 79,
   "metadata": {
    "collapsed": false
   },
   "outputs": [],
   "source": [
    "negative_text = get_text(reviews, 0)\n",
    "somewhat_negative_text = get_text(reviews, 1)\n",
    "neutral_text = get_text(reviews, 2)\n",
    "somewhat_positive_text = get_text(reviews, 3)\n",
    "positive_text = get_text(reviews, 4)\n",
    "\n"
   ]
  },
  {
   "cell_type": "code",
   "execution_count": 80,
   "metadata": {
    "collapsed": true
   },
   "outputs": [],
   "source": [
    "def stop_words(text):\n",
    "    text = ' '.join([word for word in text.split() if word not in stop])\n",
    "    return text\n",
    "\n",
    " "
   ]
  },
  {
   "cell_type": "code",
   "execution_count": 81,
   "metadata": {
    "collapsed": true
   },
   "outputs": [],
   "source": [
    "def remove_punctuation(s):\n",
    "    s = ''.join([i for i in s if i not in set(string.punctuation)])\n",
    "    return s\n",
    "\n"
   ]
  },
  {
   "cell_type": "code",
   "execution_count": 330,
   "metadata": {
    "collapsed": true
   },
   "outputs": [],
   "source": [
    "#negative_text = stop_words(negative_text)\n",
    "#negative_text = remove_punctuation(negative_text)\n",
    "\n",
    "#positive_text = stop_words(positive_text)\n",
    "#positive_text = remove_punctuation (positive_text)\n",
    "\n",
    "#somewhat_negative_text = stop_words(somewhat_negative_text)\n",
    "#somewhat_negative_text = remove_punctuation(somewhat_negative_text)\n",
    "\n",
    "#somewhat_positive_text = stop_words(somewhat_positive_text)\n",
    "#somewhat_positive_text = remove_punctuation (somewhat_positive_text)\n",
    "\n",
    "#neutral_text = stop_words(neutral_text)\n",
    "#neutral_text = remove_punctuation (neutral_text)"
   ]
  },
  {
   "cell_type": "code",
   "execution_count": 371,
   "metadata": {
    "collapsed": false
   },
   "outputs": [],
   "source": [
    "#neutral_text"
   ]
  },
  {
   "cell_type": "code",
   "execution_count": 82,
   "metadata": {
    "collapsed": false
   },
   "outputs": [],
   "source": [
    "with open(\"positive_text.txt\", \"w\") as text_file:\n",
    "    text_file.write(positive_text + \"\\n\")"
   ]
  },
  {
   "cell_type": "code",
   "execution_count": 83,
   "metadata": {
    "collapsed": true
   },
   "outputs": [],
   "source": [
    "with open(\"negative_text.txt\", \"w\") as text_file:\n",
    "    text_file.write(negative_text + \"\\n\")"
   ]
  },
  {
   "cell_type": "code",
   "execution_count": 84,
   "metadata": {
    "collapsed": true
   },
   "outputs": [],
   "source": [
    "with open(\"somewhat_negative_text.txt\", \"w\") as text_file:\n",
    "    text_file.write(somewhat_negative_text + \"\\n\")"
   ]
  },
  {
   "cell_type": "code",
   "execution_count": 85,
   "metadata": {
    "collapsed": true
   },
   "outputs": [],
   "source": [
    "with open(\"neutral_text.txt\", \"w\") as text_file:\n",
    "    text_file.write(neutral_text + \"\\n\")"
   ]
  },
  {
   "cell_type": "code",
   "execution_count": 86,
   "metadata": {
    "collapsed": true
   },
   "outputs": [],
   "source": [
    "with open(\"somewhat_positive_text.txt\", \"w\") as text_file:\n",
    "    text_file.write(neutral_text+ \"\\n\")"
   ]
  },
  {
   "cell_type": "markdown",
   "metadata": {},
   "source": [
    "LSTM"
   ]
  },
  {
   "cell_type": "code",
   "execution_count": 2,
   "metadata": {
    "collapsed": false
   },
   "outputs": [
    {
     "name": "stderr",
     "output_type": "stream",
     "text": [
      "Using TensorFlow backend.\n"
     ]
    }
   ],
   "source": [
    "from __future__ import unicode_literals\n",
    "import os\n",
    "import nltk\n",
    "import pandas as pd\n",
    "import string\n",
    "from keras.preprocessing import sequence\n",
    "from keras.models import Sequential\n",
    "from keras.layers.embeddings import Embedding\n",
    "from keras.layers.recurrent import LSTM\n",
    "from keras.layers.core import Dense, Dropout\n",
    "import numpy as np\n",
    "from gensim.models.word2vec import Word2Vec\n",
    "from gensim.corpora.dictionary import Dictionary\n",
    "np.random.seed(1337)  # For Reproducibility\n",
    "import multiprocessing\n",
    "from sklearn.feature_extraction.text import HashingVectorizer\n",
    "from sklearn.feature_extraction.text import TfidfTransformer\n",
    "from sklearn.pipeline import Pipeline\n",
    "from utils import *\n",
    "import glob\n",
    "from nltk.stem.porter import *\n",
    "import string\n",
    "import unicodedata\n",
    "from joblib import Parallel, delayed\n",
    "import tqdm\n",
    "import keras\n",
    "import gensim"
   ]
  },
  {
   "cell_type": "code",
   "execution_count": 3,
   "metadata": {
    "collapsed": false
   },
   "outputs": [],
   "source": [
    "def load_data():\n",
    "    from sklearn.model_selection import train_test_split\n",
    "    import io\n",
    "    sentences_pos = []\n",
    "    ff = \"positive_text.txt\"\n",
    "    with io.open(ff, 'r', encoding='utf8') as f:\n",
    "        for line in f:\n",
    "            sentences_pos.append(line)\n",
    "    sentences_neg = []\n",
    "    ff = \"negative_text.txt\"\n",
    "    with io.open(ff, 'r', encoding='utf8') as f:\n",
    "        for line in f:\n",
    "            sentences_neg.append(line)\n",
    "    \n",
    "    sentences_smwn = []\n",
    "    ff = \"somewhat_negative_text.txt\"\n",
    "    with io.open(ff, 'r', encoding='utf8') as f:\n",
    "        for line in f:\n",
    "            sentences_smwn.append(line)\n",
    "            \n",
    "    sentences_smwp = []    \n",
    "    ff = \"somewhat_positive_text.txt\"\n",
    "    with io.open(ff, 'r', encoding='utf8') as f:\n",
    "        for line in f:\n",
    "            sentences_smwp.append(line)\n",
    "            \n",
    "    sentences_neutral = []        \n",
    "    ff = \"neutral_text.txt\"\n",
    "    with io.open(ff, 'r', encoding='utf8') as f:\n",
    "        for line in f:\n",
    "            sentences_neutral.append(line)\n",
    "            \n",
    "            \n",
    "    X = sentences_pos+sentences_neg+sentences_smwn+sentences_neutral+sentences_smwp\n",
    "    y = [4]*len(sentences_pos)+[0]*len(sentences_neg)+[1]*len(sentences_smwn)+[2]*len(sentences_neutral) + [3]*len(sentences_smwp)\n",
    "    return X, y"
   ]
  },
  {
   "cell_type": "code",
   "execution_count": 4,
   "metadata": {
    "collapsed": false
   },
   "outputs": [
    {
     "data": {
      "text/plain": [
       "202715"
      ]
     },
     "execution_count": 4,
     "metadata": {},
     "output_type": "execute_result"
    }
   ],
   "source": [
    "X, y = load_data()\n",
    "len(X)"
   ]
  },
  {
   "cell_type": "code",
   "execution_count": 6,
   "metadata": {
    "collapsed": false
   },
   "outputs": [],
   "source": [
    "def stemmering_sentences(sentence):\n",
    "    # Remove punctuation, stopword and then stemmering\n",
    "    punctuation = set(string.punctuation)\n",
    "    stemmer = nltk.PorterStemmer()\n",
    "    lmtzr = WordNetLemmatizer()\n",
    "    # tmp = unicode(sentence, errors='ignore')\n",
    "    tmp = sentence\n",
    "    doc = [stemmer.stem(word.lower()) for word in nltk.word_tokenize(tmp) if\n",
    "           (word not in punctuation) and (word not in nltk.corpus.stopwords.words('english')) and (word != 'br')]\n",
    "    return doc\n",
    "\n",
    "def stemming(X, y):\n",
    "    sentences_stem = Parallel(n_jobs=4)(delayed(stemmering_sentences)(sentence) for sentence in tqdm.tqdm(X, desc=\"stem\"))\n",
    "    return sentences_stem, y"
   ]
  },
  {
   "cell_type": "code",
   "execution_count": 7,
   "metadata": {
    "collapsed": false
   },
   "outputs": [
    {
     "name": "stderr",
     "output_type": "stream",
     "text": [
      "stem: 100%|██████████| 202715/202715 [01:13<00:00, 2745.08it/s]\n"
     ]
    }
   ],
   "source": [
    "X, y = stemming(X, y)"
   ]
  },
  {
   "cell_type": "code",
   "execution_count": 123,
   "metadata": {
    "collapsed": false
   },
   "outputs": [],
   "source": [
    "#X"
   ]
  },
  {
   "cell_type": "code",
   "execution_count": 112,
   "metadata": {
    "collapsed": false
   },
   "outputs": [],
   "source": [
    "# set parameters:\n",
    "vocab_dim = 10\n",
    "maxlen = 10\n",
    "n_iterations = 20 # ideally more..\n",
    "# Words that appear only once or twice in a billion-word corpus are probably uninteresting typos and garbage. \n",
    "n_exposures = 10\n",
    "window_size = 10\n",
    "batch_size = 128\n",
    "n_epoch = 5\n",
    "input_length = 100\n",
    "cpu_count = multiprocessing.cpu_count()\n"
   ]
  },
  {
   "cell_type": "code",
   "execution_count": 113,
   "metadata": {
    "collapsed": true
   },
   "outputs": [],
   "source": [
    "# combine_train_test_X = terms_by_doc_train + terms_by_doc_test\n",
    "combine_train_test_X = X"
   ]
  },
  {
   "cell_type": "code",
   "execution_count": 114,
   "metadata": {
    "collapsed": false
   },
   "outputs": [
    {
     "name": "stdout",
     "output_type": "stream",
     "text": [
      "Training a Word2vec model...\n"
     ]
    },
    {
     "data": {
      "text/plain": [
       "9065899"
      ]
     },
     "execution_count": 114,
     "metadata": {},
     "output_type": "execute_result"
    }
   ],
   "source": [
    "print('Training a Word2vec model...')\n",
    "bigram = gensim.models.Phrases(combine_train_test_X)\n",
    "#bigram_transformer = gensim.models.Phrases(X)\n",
    "a = list(bigram[bigram[combine_train_test_X]])\n",
    "                   \n",
    "model = Word2Vec(size=vocab_dim,\n",
    "                 min_count=n_exposures,\n",
    "                 window=window_size,\n",
    "                 workers=cpu_count,\n",
    "                 iter=n_iterations)\n",
    "model.build_vocab(a)\n",
    "model.train(a)\n",
    "\n",
    "                  \n",
    "    "
   ]
  },
  {
   "cell_type": "code",
   "execution_count": 115,
   "metadata": {
    "collapsed": false
   },
   "outputs": [
    {
     "name": "stdout",
     "output_type": "stream",
     "text": [
      "Setting up Arrays for Keras Embedding Layer...\n"
     ]
    }
   ],
   "source": [
    "gensim_dict = Dictionary()\n",
    "gensim_dict.doc2bow(model.vocab.keys(), allow_update=True)\n",
    "# gensim_dict.items() returns [(0, u\"'surpris\"), (1, u'woodi'), (2, u'yellow'),...]\n",
    "# K+1 aims at avoiding 0 as index.\n",
    "w2indx = {v: k+1 for k, v in gensim_dict.items()}\n",
    "w2vec = {word: model[word] for word in w2indx.keys()}\n",
    "# print len(model[\"surpris\"]) -> 100\n",
    "print('Setting up Arrays for Keras Embedding Layer...')\n",
    "n_symbols = len(w2indx) + 1  # adding 1 to account for 0th index\n",
    "embedding_weights = np.zeros((n_symbols + 1, vocab_dim))\n",
    "for word, index in w2indx.items():\n",
    "    embedding_weights[index, :] = w2vec[word]\n",
    "# print embedding_weights.shape -> (11405, 100)"
   ]
  },
  {
   "cell_type": "code",
   "execution_count": 118,
   "metadata": {
    "collapsed": false
   },
   "outputs": [],
   "source": [
    "from sklearn.model_selection import train_test_split\n",
    "terms_by_doc_train, terms_by_doc_test, y_train, y_test = train_test_split(X,y, test_size=0.25)\n",
    "X_train = []\n",
    "for doc in terms_by_doc_train:\n",
    "    new_txt = []\n",
    "    for word in doc:\n",
    "        try:\n",
    "            new_txt.append(w2indx[word])\n",
    "        except:\n",
    "            new_txt.append(0)\n",
    "    X_train.append(new_txt)\n",
    "X_test = []\n",
    "for doc in terms_by_doc_test:\n",
    "    new_txt = []\n",
    "    for word in doc:\n",
    "        try:\n",
    "            new_txt.append(w2indx[word])\n",
    "        except:\n",
    "            new_txt.append(0)\n",
    "    X_test.append(new_txt)"
   ]
  },
  {
   "cell_type": "code",
   "execution_count": 119,
   "metadata": {
    "collapsed": false
   },
   "outputs": [
    {
     "name": "stdout",
     "output_type": "stream",
     "text": [
      "Pad sequences (samples x time)\n",
      "(u'X_train shape:', (152036, 10))\n",
      "(u'X_test shape:', (50679, 10))\n",
      "(u'X_train shape:', (152036,))\n",
      "(u'X_test shape:', (50679,))\n"
     ]
    }
   ],
   "source": [
    "print(\"Pad sequences (samples x time)\")\n",
    "X_train = sequence.pad_sequences(X_train, maxlen=maxlen)\n",
    "X_test = sequence.pad_sequences(X_test, maxlen=maxlen)\n",
    "print('X_train shape:', X_train.shape)\n",
    "print('X_test shape:', X_test.shape)\n",
    "y_train = np.array(y_train)\n",
    "y_test = np.array(y_test)\n",
    "print('X_train shape:',  y_train.shape)\n",
    "print('X_test shape:', y_test.shape)"
   ]
  },
  {
   "cell_type": "code",
   "execution_count": 69,
   "metadata": {
    "collapsed": true
   },
   "outputs": [],
   "source": [
    "from keras.objectives import  categorical_crossentropy\n",
    "\n",
    "def loss_fct(y_true, y_pred):\n",
    "    \n",
    "    \n",
    "    # l2 = 0.001 * (model.layers[0].W**2).sum()\n",
    "    l2 = 0\n",
    "    return categorical_crossentropy(y_true, y_pred) + l2\n",
    "\n"
   ]
  },
  {
   "cell_type": "code",
   "execution_count": 110,
   "metadata": {
    "collapsed": false
   },
   "outputs": [],
   "source": [
    "from keras import backend as K\n",
    "import numpy as np\n",
    "\n",
    "def my_init(shape, name=None):\n",
    "    value = np.sqrt(6/np.random.random(shape))\n",
    "    return K.variable(value, name=name)\n",
    "\n",
    "#w = np.random.normal(loc=0.0, scale=sigma/np.sqrt(nn_arch[i]), size=(nn_arch[i+1],nn_arch[i]))"
   ]
  },
  {
   "cell_type": "code",
   "execution_count": 141,
   "metadata": {
    "collapsed": false
   },
   "outputs": [
    {
     "name": "stdout",
     "output_type": "stream",
     "text": [
      "Defining a Simple Keras Model...\n",
      "Compiling the Model...\n",
      "Train...\n",
      "Train on 152036 samples, validate on 50679 samples\n",
      "Epoch 1/50\n",
      "152036/152036 [==============================] - 26s - loss: 0.7026 - acc: 0.3925 - val_loss: 0.6735 - val_acc: 0.4019\n",
      "Epoch 2/50\n",
      "152036/152036 [==============================] - 19s - loss: 0.6578 - acc: 0.4127 - val_loss: 0.6630 - val_acc: 0.3979\n",
      "Epoch 3/50\n",
      "152036/152036 [==============================] - 21s - loss: 0.6445 - acc: 0.4243 - val_loss: 0.6820 - val_acc: 0.4212\n",
      "Epoch 4/50\n",
      "152036/152036 [==============================] - 23s - loss: 0.6350 - acc: 0.4314 - val_loss: 0.6587 - val_acc: 0.4006\n",
      "Epoch 5/50\n",
      "152036/152036 [==============================] - 22s - loss: 0.6281 - acc: 0.4369 - val_loss: 0.6500 - val_acc: 0.4120\n",
      "Epoch 6/50\n",
      "152036/152036 [==============================] - 39s - loss: 0.6218 - acc: 0.4410 - val_loss: 0.6551 - val_acc: 0.4110\n",
      "Epoch 7/50\n",
      "152036/152036 [==============================] - 43s - loss: 0.6167 - acc: 0.4441 - val_loss: 0.6429 - val_acc: 0.4233\n",
      "Epoch 8/50\n",
      "152036/152036 [==============================] - 43s - loss: 0.6123 - acc: 0.4465 - val_loss: 0.6407 - val_acc: 0.4229\n",
      "Epoch 9/50\n",
      "152036/152036 [==============================] - 45s - loss: 0.6084 - acc: 0.4479 - val_loss: 0.6401 - val_acc: 0.4203\n",
      "Epoch 10/50\n",
      "152036/152036 [==============================] - 46s - loss: 0.6047 - acc: 0.4516 - val_loss: 0.6383 - val_acc: 0.4220\n",
      "Epoch 11/50\n",
      "152036/152036 [==============================] - 46s - loss: 0.6015 - acc: 0.4524 - val_loss: 0.6359 - val_acc: 0.4258\n",
      "Epoch 12/50\n",
      "152036/152036 [==============================] - 45s - loss: 0.5983 - acc: 0.4555 - val_loss: 0.6372 - val_acc: 0.4224\n",
      "Epoch 13/50\n",
      "152036/152036 [==============================] - 44s - loss: 0.5954 - acc: 0.4581 - val_loss: 0.6367 - val_acc: 0.4206\n",
      "Epoch 14/50\n",
      "152036/152036 [==============================] - 43s - loss: 0.5923 - acc: 0.4594 - val_loss: 0.6374 - val_acc: 0.4233\n",
      "Epoch 15/50\n",
      "152036/152036 [==============================] - 22s - loss: 0.5901 - acc: 0.4614 - val_loss: 0.6405 - val_acc: 0.4188\n",
      "Epoch 16/50\n",
      "152036/152036 [==============================] - 20s - loss: 0.5878 - acc: 0.4633 - val_loss: 0.6388 - val_acc: 0.4216\n",
      "Epoch 17/50\n",
      "152036/152036 [==============================] - 18s - loss: 0.5856 - acc: 0.4650 - val_loss: 0.6449 - val_acc: 0.4149\n",
      "Epoch 18/50\n",
      "152036/152036 [==============================] - 19s - loss: 0.5838 - acc: 0.4672 - val_loss: 0.6384 - val_acc: 0.4178\n",
      "Epoch 19/50\n",
      "152036/152036 [==============================] - 19s - loss: 0.5820 - acc: 0.4690 - val_loss: 0.6414 - val_acc: 0.4177\n",
      "Epoch 20/50\n",
      "152036/152036 [==============================] - 20s - loss: 0.5803 - acc: 0.4694 - val_loss: 0.6426 - val_acc: 0.4190\n",
      "Epoch 21/50\n",
      "152036/152036 [==============================] - 20s - loss: 0.5788 - acc: 0.4715 - val_loss: 0.6463 - val_acc: 0.4134\n",
      "Epoch 22/50\n",
      "152036/152036 [==============================] - 20s - loss: 0.5774 - acc: 0.4724 - val_loss: 0.6415 - val_acc: 0.4149\n",
      "Epoch 23/50\n",
      "152036/152036 [==============================] - 33s - loss: 0.5756 - acc: 0.4735 - val_loss: 0.6434 - val_acc: 0.4112\n",
      "Epoch 24/50\n",
      "152036/152036 [==============================] - 46s - loss: 0.5741 - acc: 0.4757 - val_loss: 0.6413 - val_acc: 0.4184\n",
      "Epoch 25/50\n",
      "152036/152036 [==============================] - 45s - loss: 0.5729 - acc: 0.4769 - val_loss: 0.6435 - val_acc: 0.4108\n",
      "Epoch 26/50\n",
      "152036/152036 [==============================] - 72s - loss: 0.5715 - acc: 0.4777 - val_loss: 0.6415 - val_acc: 0.4137\n",
      "Epoch 27/50\n",
      "152036/152036 [==============================] - 42s - loss: 0.5702 - acc: 0.4793 - val_loss: 0.6446 - val_acc: 0.4124\n",
      "Epoch 28/50\n",
      "152036/152036 [==============================] - 43s - loss: 0.5691 - acc: 0.4805 - val_loss: 0.6478 - val_acc: 0.4074\n",
      "Epoch 29/50\n",
      "152036/152036 [==============================] - 42s - loss: 0.5679 - acc: 0.4808 - val_loss: 0.6433 - val_acc: 0.4107\n",
      "Epoch 30/50\n",
      "152036/152036 [==============================] - 31s - loss: 0.5670 - acc: 0.4823 - val_loss: 0.6455 - val_acc: 0.4101\n",
      "Epoch 31/50\n",
      "152036/152036 [==============================] - 20s - loss: 0.5657 - acc: 0.4841 - val_loss: 0.6458 - val_acc: 0.4078\n",
      "Epoch 32/50\n",
      "152036/152036 [==============================] - 20s - loss: 0.5648 - acc: 0.4844 - val_loss: 0.6489 - val_acc: 0.4052\n",
      "Epoch 33/50\n",
      "152036/152036 [==============================] - 20s - loss: 0.5638 - acc: 0.4849 - val_loss: 0.6513 - val_acc: 0.4021\n",
      "Epoch 34/50\n",
      "152036/152036 [==============================] - 20s - loss: 0.5628 - acc: 0.4867 - val_loss: 0.6472 - val_acc: 0.4045\n",
      "Epoch 35/50\n",
      "152036/152036 [==============================] - 21s - loss: 0.5616 - acc: 0.4870 - val_loss: 0.6503 - val_acc: 0.4016\n",
      "Epoch 36/50\n",
      "152036/152036 [==============================] - 20s - loss: 0.5609 - acc: 0.4878 - val_loss: 0.6538 - val_acc: 0.4016\n",
      "Epoch 37/50\n",
      "152036/152036 [==============================] - 20s - loss: 0.5601 - acc: 0.4889 - val_loss: 0.6538 - val_acc: 0.4024\n",
      "Epoch 38/50\n",
      "152036/152036 [==============================] - 22s - loss: 0.5593 - acc: 0.4901 - val_loss: 0.6489 - val_acc: 0.4012\n",
      "Epoch 39/50\n",
      "152036/152036 [==============================] - 26s - loss: 0.5587 - acc: 0.4899 - val_loss: 0.6515 - val_acc: 0.4014\n",
      "Epoch 40/50\n",
      "152036/152036 [==============================] - 28s - loss: 0.5579 - acc: 0.4915 - val_loss: 0.6546 - val_acc: 0.3984\n",
      "Epoch 41/50\n",
      "152036/152036 [==============================] - 27s - loss: 0.5571 - acc: 0.4918 - val_loss: 0.6527 - val_acc: 0.3992\n",
      "Epoch 42/50\n",
      "152036/152036 [==============================] - 29s - loss: 0.5561 - acc: 0.4922 - val_loss: 0.6502 - val_acc: 0.4025\n",
      "Epoch 43/50\n",
      "152036/152036 [==============================] - 27s - loss: 0.5554 - acc: 0.4933 - val_loss: 0.6538 - val_acc: 0.3991\n",
      "Epoch 44/50\n",
      "152036/152036 [==============================] - 26s - loss: 0.5551 - acc: 0.4932 - val_loss: 0.6529 - val_acc: 0.3984\n",
      "Epoch 45/50\n",
      "152036/152036 [==============================] - 26s - loss: 0.5542 - acc: 0.4941 - val_loss: 0.6568 - val_acc: 0.3965\n",
      "Epoch 46/50\n",
      "152036/152036 [==============================] - 30s - loss: 0.5536 - acc: 0.4944 - val_loss: 0.6585 - val_acc: 0.3959\n",
      "Epoch 47/50\n",
      "152036/152036 [==============================] - 25s - loss: 0.5532 - acc: 0.4951 - val_loss: 0.6553 - val_acc: 0.3984\n",
      "Epoch 48/50\n",
      "152036/152036 [==============================] - 27s - loss: 0.5521 - acc: 0.4954 - val_loss: 0.6559 - val_acc: 0.3971\n",
      "Epoch 49/50\n",
      "152036/152036 [==============================] - 32s - loss: 0.5517 - acc: 0.4964 - val_loss: 0.6596 - val_acc: 0.3961\n",
      "Epoch 50/50\n",
      "152036/152036 [==============================] - 25s - loss: 0.5509 - acc: 0.4967 - val_loss: 0.6556 - val_acc: 0.3992\n",
      "Evaluate...\n",
      "50679/50679 [==============================] - 15s    \n",
      "(u'Test score:', 0.65556108363390408)\n",
      "(u'Test accuracy:', 0.39919887922607045)\n"
     ]
    }
   ],
   "source": [
    "print('Defining a Simple Keras Model...')\n",
    "model = Sequential()  # or Graph or whatever\n",
    "model.add(Embedding(input_dim=n_symbols ,\n",
    "                    output_dim=vocab_dim))\n",
    "\n",
    "                    #input_length=input_length))  # Adding Input \n",
    "model.add(Dense(64, init='normal'))\n",
    "#model.add(Dense(64, init='normal'))\n",
    "model.add(LSTM(vocab_dim))\n",
    "model.add(Dropout(12))\n",
    "model.add(Dense(1, activation='relu'))\n",
    "#model.add(Dense(1, activation='relu'))\n",
    "\n",
    "sgd = keras.optimizers.SGD(lr=0.01, momentum=0.1, decay=0, nesterov=True)\n",
    "adam = keras.optimizers.Adam(lr=0.2, beta_1=0.2, beta_2=0.2, epsilon=0.1, decay=0.5)\n",
    "adamax = keras.optimizers.Adamax(lr=0.2, beta_1=0.2, beta_2=0.2, epsilon=0.1 ,decay=0)\n",
    "prop = keras.optimizers.RMSprop(lr=0.001, rho=0.9, epsilon=1e-08, decay=0)\n",
    "\n",
    "print('Compiling the Model...')\n",
    "\n",
    "\n",
    "model.compile(loss='mean_absolute_error', optimizer='rmsprop', metrics=['accuracy'])\n",
    "\n",
    "print(\"Train...\")\n",
    "history  = model.fit(X_train, y_train, batch_size=batch_size, nb_epoch=20,\n",
    "          validation_data=(X_test, y_test))\n",
    "\n",
    "print(\"Evaluate...\")\n",
    "score, acc = model.evaluate(X_test, y_test)\n",
    "print('Test score:', score)\n",
    "print('Test accuracy:', acc)"
   ]
  },
  {
   "cell_type": "code",
   "execution_count": 136,
   "metadata": {
    "collapsed": false
   },
   "outputs": [
    {
     "name": "stdout",
     "output_type": "stream",
     "text": [
      "(u'Test score:', 0.56086910290458292)\n",
      "(u'Test accuracy:', 0.41407683656599037)\n"
     ]
    }
   ],
   "source": [
    "print('Test score:', score)\n",
    "print('Test accuracy:', acc)"
   ]
  },
  {
   "cell_type": "code",
   "execution_count": 137,
   "metadata": {
    "collapsed": false
   },
   "outputs": [
    {
     "data": {
      "image/png": "[encoded data removed]",
      "text/plain": [
       "<matplotlib.figure.Figure at 0x7f85c6ec4f10>"
      ]
     },
     "metadata": {},
     "output_type": "display_data"
    }
   ],
   "source": [
    "import matplotlib.pyplot as plt\n",
    "%matplotlib inline\n",
    "\n",
    "plt.plot(history.history['acc'],label = 'acc train')\n",
    "plt.plot(history.history['val_acc'],label = 'acc val')\n",
    "\n",
    "\n",
    "\n",
    "plt.xlabel(\"epoch\")\n",
    "plt.ylabel(\"Accuarcay\")\n",
    "\n",
    "plt.legend(loc='best')\n",
    "plt.show()\n"
   ]
  },
  {
   "cell_type": "code",
   "execution_count": null,
   "metadata": {
    "collapsed": true
   },
   "outputs": [],
   "source": []
  }
 ],
 "metadata": {
  "kernelspec": {
   "display_name": "Python 2",
   "language": "python",
   "name": "python2"
  },
  "language_info": {
   "codemirror_mode": {
    "name": "ipython",
    "version": 2
   },
   "file_extension": ".py",
   "mimetype": "text/x-python",
   "name": "python",
   "nbconvert_exporter": "python",
   "pygments_lexer": "ipython2",
   "version": "2.7.12"
  }
 },
 "nbformat": 4,
 "nbformat_minor": 1
}
