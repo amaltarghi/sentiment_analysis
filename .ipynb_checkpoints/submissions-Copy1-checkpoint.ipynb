{
 "cells": [
  {
   "cell_type": "code",
   "execution_count": 14,
   "metadata": {
    "collapsed": true
   },
   "outputs": [],
   "source": [
    "from sklearn.feature_extraction.text import TfidfVectorizer\n",
    "from sklearn.naive_bayes import MultinomialNB\n",
    "import pandas as pd\n",
    "from sklearn.svm import LinearSVC\n",
    "from sklearn import svm\n",
    "from sklearn.svm import SVC\n",
    "from nltk.classify.scikitlearn import SklearnClassifier"
   ]
  },
  {
   "cell_type": "code",
   "execution_count": 2,
   "metadata": {
    "collapsed": true
   },
   "outputs": [],
   "source": [
    "movies_train = pd.read_table(\"train.tsv\")\n",
    "movies_test = pd.read_table(\"test.tsv\")\n"
   ]
  },
  {
   "cell_type": "code",
   "execution_count": null,
   "metadata": {
    "collapsed": false
   },
   "outputs": [
    {
     "name": "stdout",
     "output_type": "stream",
     "text": [
      "(156060, 94644)\n"
     ]
    }
   ],
   "source": [
    "\n",
    "#instantiate classifier and vectorizer\n",
    "#clf=MultinomialNB(alpha=1)\n",
    "vectorizer =TfidfVectorizer(min_df=1,ngram_range=(1,2))\n",
    "\n",
    "#Apply vectorizer to training data\n",
    "traindata= movies_train[\"Phrase\"]\n",
    "X_train=vectorizer.fit_transform(traindata)\n",
    "print(X_train.shape)\n",
    "#Label Ids\n",
    "y_train=movies_train[\"Sentiment\"]\n",
    "\n",
    "#Train classifier\n",
    "#clf.fit(X_train, y_train)\n",
    "\n",
    "clf = svm.SVC(decision_function_shape='ovo',kernel='linear', gamma=0.1,C=0.1)\n",
    "clf.fit(X_train, y_train)\n",
    "test_data = movies_test[\"Phrase\"]\n",
    "\n",
    "\n",
    "\n",
    "\n",
    "\n",
    "\n",
    "x_test = vectorizer.transform(test_data)\n",
    "\n",
    "prediction = clf.predict(x_test)"
   ]
  },
  {
   "cell_type": "code",
   "execution_count": 10,
   "metadata": {
    "collapsed": false
   },
   "outputs": [],
   "source": [
    "resultsthird = pd.DataFrame({\n",
    "    \"PhraseId\": movies_test[\"PhraseId\"],\n",
    "    \"Sentiment\": prediction\n",
    "    }\n",
    ")\n",
    "resultsthird.to_csv(\"first_submission_multi_sklearn.csv\", index= False)\n",
    "\n"
   ]
  }
 ],
 "metadata": {
  "kernelspec": {
   "display_name": "Python 2",
   "language": "python",
   "name": "python2"
  },
  "language_info": {
   "codemirror_mode": {
    "name": "ipython",
    "version": 2
   },
   "file_extension": ".py",
   "mimetype": "text/x-python",
   "name": "python",
   "nbconvert_exporter": "python",
   "pygments_lexer": "ipython2",
   "version": "2.7.12"
  }
 },
 "nbformat": 4,
 "nbformat_minor": 1
}
