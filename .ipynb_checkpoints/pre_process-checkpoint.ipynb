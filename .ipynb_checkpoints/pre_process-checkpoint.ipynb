{
 "cells": [
  {
   "cell_type": "markdown",
   "metadata": {},
   "source": [
    "Before applying any learning algorithm to the data, it is necessary to apply some preprocessing tasks as shown below:"
   ]
  },
  {
   "cell_type": "code",
   "execution_count": 24,
   "metadata": {
    "collapsed": false
   },
   "outputs": [],
   "source": [
    "import pandas as pd\n",
    "import nltk\n",
    "import string\n",
    "from nltk.stem.porter import *"
   ]
  },
  {
   "cell_type": "code",
   "execution_count": 19,
   "metadata": {
    "collapsed": false
   },
   "outputs": [
    {
     "data": {
      "text/plain": [
       "(156060, 2)"
      ]
     },
     "execution_count": 19,
     "metadata": {},
     "output_type": "execute_result"
    }
   ],
   "source": [
    "df = pd.read_csv(\"train.tsv\",sep='\\t')\n",
    "df.drop([\"PhraseId\",\"SentenceId\"],axis=1,inplace=True) # remove useless columns\n",
    "df.head()\n",
    "df.shape\n"
   ]
  },
  {
   "cell_type": "markdown",
   "metadata": {},
   "source": [
    " 1) Remove punctuation marks and transform all characters to lowercase using nlk library\n",
    " 2) Remove stop words\n",
    " 3) Steaming\n",
    " 4) tf.idf\n",
    " Sans oublier la segmentation afin de separer chaque phrase en mot l idée c que chaque mot dans une phrase va être consideré comme étant un feature\n",
    " "
   ]
  },
  {
   "cell_type": "code",
   "execution_count": 22,
   "metadata": {
    "collapsed": false
   },
   "outputs": [],
   "source": [
    "def pre_process(train,test):\n",
    "    # Remove punctuation, stopword and then stemmering\n",
    "    # list of all the punctiation of string  https://mail.python.org/pipermail/tutor/2001-October/009454.html\n",
    "    punctuation=set(string.punctuation)\n",
    "    # stemming algo\n",
    "    # http://www.nltk.org/howto/stem.html\n",
    "    # https://pythonprogramming.net/stemming-nltk-tutorial/\n",
    "    stemmer=PorterStemmer()\n",
    "    \n",
    "    for i in range(len(train)):\n",
    "        tmp = train[i]\n",
    "        tmp = unicode(tmp, errors='ignore')\n",
    "        doc=[stemmer.stem(word) for word in nltk.word_tokenize(tmp) if (word not in punctuation) and (word not in nltk.corpus.stopwords.words('english'))]\n",
    "        train = doc\n",
    "    df_train = {'features':sentences_train, 'labels':train_y}\n",
    "    df_train = pd.DataFrame(df_train)\n",
    "    df_train.to_csv('dumps/stemmered_train_mrd.csv', encoding='utf8', index=False)\n",
    "    print \"writing stemmered sentences_train in ./dumps/stemmered_train.csv file is done.\"\n",
    "\n",
    "    for i in range(len(sentences_test)):\n",
    "        tmp = sentences_test[i]\n",
    "        tmp = unicode(tmp, errors='ignore')\n",
    "        doc=[stemmer.stem(word) for word in nltk.word_tokenize(tmp) if (word not in punctuation) and (word not in nltk.corpus.stopwords.words('english'))]\n",
    "        sentences_test[i]=doc\n",
    "    df_test = {'features': sentences_test, 'labels':test_y}\n",
    "    df_test = pd.DataFrame(df_test)\n",
    "    df_test.to_csv('dumps/stemmered_test_mrd.csv', encoding='utf8', index=False)\n",
    "    print \"writing stemmered sentences_test in dumps/stemmered_test.csv is done.\""
   ]
  },
  {
   "cell_type": "code",
   "execution_count": 12,
   "metadata": {
    "collapsed": false
   },
   "outputs": [
    {
     "data": {
      "text/plain": [
       "32556"
      ]
     },
     "execution_count": 12,
     "metadata": {},
     "output_type": "execute_result"
    }
   ],
   "source": [
    "#df_all = df.copy(deep=True)\n",
    "#filtered_cols = ((df.Sentiment == 0) | (df.Sentiment == 4))\n",
    "#df = df[filtered_cols]\n",
    "#df.size"
   ]
  },
  {
   "cell_type": "code",
   "execution_count": 13,
   "metadata": {
    "collapsed": true
   },
   "outputs": [],
   "source": []
  }
 ],
 "metadata": {
  "kernelspec": {
   "display_name": "Python 2",
   "language": "python",
   "name": "python2"
  },
  "language_info": {
   "codemirror_mode": {
    "name": "ipython",
    "version": 2
   },
   "file_extension": ".py",
   "mimetype": "text/x-python",
   "name": "python",
   "nbconvert_exporter": "python",
   "pygments_lexer": "ipython2",
   "version": "2.7.12"
  }
 },
 "nbformat": 4,
 "nbformat_minor": 1
}
